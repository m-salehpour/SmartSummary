{
 "cells": [
  {
   "metadata": {
    "ExecuteTime": {
     "end_time": "2025-07-24T23:21:39.524387Z",
     "start_time": "2025-07-24T23:21:32.016772Z"
    }
   },
   "cell_type": "code",
   "source": [
    "%load_ext autoreload\n",
    "%reload_ext autoreload\n",
    "%autoreload 2\n",
    "%run ../init_env.py\n",
    "%run ../config.py\n",
    "\n",
    "from tools.profiler import profile_resources\n",
    "from asr import evaluate_transcription\n",
    "import gc\n"
   ],
   "id": "e36b71931f536820",
   "outputs": [
    {
     "name": "stdout",
     "output_type": "stream",
     "text": [
      "[NeviseCorrector] Using device: cpu\n",
      "[Nevise] Loaded SubwordBert model with 239,743,651 parameters\n",
      "[Nevise] Checkpoint 'model.pth.tar' loaded onto cpu\n"
     ]
    }
   ],
   "execution_count": 1
  },
  {
   "metadata": {
    "collapsed": true,
    "ExecuteTime": {
     "end_time": "2025-07-24T23:23:03.299673Z",
     "start_time": "2025-07-24T23:21:42.868186Z"
    }
   },
   "cell_type": "code",
   "source": [
    "\n",
    "# result = evaluate_transcription(audio_path=audio_file, ground_truth_path=ground_truth_file, diff=False, print_hype_text=True , print_ref_text=True, model_size=\"medium\" )\n",
    "\n",
    "# @profile_resources\n",
    "def run_test():\n",
    "\n",
    "    # audio_file = \"../Data/Training/Farsi/Quran/farsi_secondsource.mp3\"\n",
    "    # ground_truth_file = \"../Data/Training/Farsi/Quran/farsi_secondsource_transcript-farsi_translation-hebrew.docx\"\n",
    "\n",
    "    audio_file = \"../Data/Training/Farsi/Quran/farsi_thirdsource.mp3\"\n",
    "    ground_truth_file = \"../Data/Training/Farsi/Quran/farsi_thirdsource_transcript-farsi_translation-hebrew.docx\"\n",
    "\n",
    "    # audio_file = \"../Data/Training/Hebrew/hebrew_firstsource.mp4\"\n",
    "    # ground_truth_file = \"../Data/Training/Hebrew/hebrew_firstsource_transcript-hebrew_translation-english.docx\"\n",
    "\n",
    "    return evaluate_transcription(\n",
    "        audio_path=audio_file,\n",
    "        ground_truth_path=ground_truth_file,\n",
    "        diff=False,\n",
    "        print_hyp=True,\n",
    "        print_ref=True,\n",
    "        model_size=\"medium\"\n",
    "    )\n",
    "\n",
    "# Now execute:\n",
    "run_test()\n",
    "\n",
    "# model medium farsi_secondsource\n",
    "##only hazm 33%\n",
    "##only p_norm 30%\n",
    "##both + nevis 29.23% upto 31%\n",
    "\n",
    "# model medium farsi_secondsource\n",
    "##both + nevis 31%\n",
    "\n",
    "\n",
    "# align_whisper_output(result=result, audio_path=audio_file, ground_truth_path=ground_truth_file, diff=True, print_hype_text=True , print_ref_text=True )\n"
   ],
   "id": "initial_id",
   "outputs": [
    {
     "name": "stderr",
     "output_type": "stream",
     "text": [
      "[autoreload of _pydevd_bundle.pydevd_additional_thread_info_regular failed: Traceback (most recent call last):\n",
      "  File \"/Users/pouya/PycharmProjects/SmartSummary/.venv/lib/python3.11/site-packages/IPython/extensions/autoreload.py\", line 325, in check\n",
      "    superreload(m, reload, self.old_objects)\n",
      "  File \"/Users/pouya/PycharmProjects/SmartSummary/.venv/lib/python3.11/site-packages/IPython/extensions/autoreload.py\", line 621, in superreload\n",
      "    update_generic(old_obj, new_obj)\n",
      "  File \"/Users/pouya/PycharmProjects/SmartSummary/.venv/lib/python3.11/site-packages/IPython/extensions/autoreload.py\", line 447, in update_generic\n",
      "    update(a, b)\n",
      "  File \"/Users/pouya/PycharmProjects/SmartSummary/.venv/lib/python3.11/site-packages/IPython/extensions/autoreload.py\", line 399, in update_class\n",
      "    if update_generic(old_obj, new_obj):\n",
      "       ^^^^^^^^^^^^^^^^^^^^^^^^^^^^^^^^\n",
      "  File \"/Users/pouya/PycharmProjects/SmartSummary/.venv/lib/python3.11/site-packages/IPython/extensions/autoreload.py\", line 444, in update_generic\n",
      "    def update_generic(a, b):\n",
      "    \n",
      "  File \"/Applications/PyCharm.app/Contents/plugins/python-ce/helpers/pydev/_pydevd_bundle/pydevd_trace_dispatch_regular.py\", line 391, in __call__\n",
      "    pydev_step_cmd = additional_info.pydev_step_cmd\n",
      "                     ^^^^^^^^^^^^^^^^^^^^^^^^^^^^^^\n",
      "TypeError: descriptor 'pydev_step_cmd' for 'PyDBAdditionalThreadInfo' objects doesn't apply to a 'PyDBAdditionalThreadInfo' object\n",
      "]\n",
      "Lightning automatically upgraded your loaded checkpoint from v1.5.4 to v2.5.2. To apply the upgrade to your files permanently, run `python -m pytorch_lightning.utilities.upgrade_checkpoint ../.venv/lib/python3.11/site-packages/whisperx/assets/pytorch_model.bin`\n"
     ]
    },
    {
     "name": "stdout",
     "output_type": "stream",
     "text": [
      "No language specified, language will be first be detected for each audio file (increases inference time).\n",
      ">>Performing voice activity detection using Pyannote...\n",
      "Model was trained with pyannote.audio 0.0.1, yours is 3.3.2. Bad things might happen unless you revert pyannote.audio to 0.x.\n",
      "Model was trained with torch 1.10.0+cu102, yours is 2.7.1. Bad things might happen unless you revert torch to 1.x.\n",
      "Detected language: fa (0.98) in first 30s of audio...\n",
      "✅ Raw transcript saved to transcripts_json/farsi_thirdsource.json\n",
      "\n",
      "--- Comparing raw transcription (fa) ---\n",
      "\n",
      "\n",
      "[Nevise] Original sentence: 'به نام خداوند بخشنلی بخشایشگر، آنچه در آسمان ها و آنچه در زمین هست، همه تسبیح خدا میگوگند، و او شکاست نافذیر و حکیم هست. ایچسانی که ایمان آوردید، چرا صخنی میگوید که عمل نمیکنید؟ نظر خدا بسیار موجب خشم هست که صخنی بگوید که عمل نمیکنید. خداوان شسانی را دوست می دارد که در راه او پیکار می کنند. گوی بنای آهنینند. به یاد آورید هنگامی را که موسا به قومش گفت ای قوم من چرا مرا آزار می دهید با این که می دانید من فرستاده خدا به سوی شما هستم. هنگامی که انها از حق منحرف شدند خداوان قلوبشان را منحرف ساخ. و خدا فاسقان را هدایت نمی کنند. و به یاد آورید هنگامی را که ایسابل مریم گفت ای ونی اصائیم من فرستادهی خدا به سوی شما هستم در حالی که تستی خوننده ی کتابی که قبل از من فرستاده شده تورات می باشند و بشارت دهنده و رسولی که بعد از من می آید و نام او احمد از هنگامی که او احمد با معجزات و دلائل روشند به سراغ اانان آمد گفتند این سهریز آشکار چه کسی ظالم تر از از آن کسی که بر خدا دروغ بسته، در حالی که دعوت به اسلام می شود؟ خداون گروح ستمکاران را هدایت نمی کند. آنان می خواهند نور خدا را با دهان خود خاموش سازند، ولی خدا نور خود را کامل می کند، هرچند کافران خوش نداشته باشند. او کسی ایز که رسول خدا را با هدایت و دین حق قرستاز تا او را بر همه ی ادیان قالب سازد، خرچند مشرکان کراحت داشته باشند. ای کسانی که ایمان آوردیند، آیا شما را به تجارت راهنمایی کنم که شما را از عذاب درد ناش رحایی می بخشد؟ به خدا و رسولش امان بیاورید و با امبال و جانهای تان در راح خدا و جهاد کنید، این برای شما از هر چیز بهتر هست اگر بتانید. اگر چنین کنید، گناهان تان را میبخشد و شما را در باغهای از بهشت داخل می کند که نهرها از دیر درختانش جارید و در مستنهای پاکیزه در بهشت جاویدان جای می رهد و این فیروزی عظیم هست. و نعمت دیگر ای که آن را دوستارید به شما می بخشد و آن یاری خدا وند و فیروزی نزدیک هست و مؤمنان را به شورت به به این فیروزی بزرگ. ای کسانی که ایمان آبردهید یا وران خدا باشید همان گمن که ایسابل مریم به حواریون گفت چه کسانی در راه خدا یا وران من هستند؟ حواریون گفتند ما یا بران خدا ایم، در این انگام گروحی از منی اسرائید ایمان آوردند و گروحی کافر شدند. ما چسان ایراوش ایمان آورده بودند، در برابر دشمنانشان چعید کردیم، و سرنجام برا انان پیروز شدند.'\n",
      "[Nevise] Processing batch: ['به نام خداوند بخشنلی بخشایشگر، آنچه در آسمان\\u200cها و آنچه در زمین هست، همه تسبیح خدا میگوگند، و او شکاست نافذیر و حکیم هست.', 'ایچسانی که ایمان آوردید، چرا صخنی می\\u200cگوید که عمل نمی\\u200cکنید؟ نظر خدا بسیار موجب خشم هست که صخنی بگوید که عمل نمی\\u200cکنید.', 'خداوان شسانی را دوست می\\u200cدارد که در راه او پیکار می\\u200cکنند.', 'گوی بنای آهنینند.', 'به یاد آورید هنگامی را که موسا به قومش گفت ای قوم من چرا مرا آزار می\\u200cدهید با این\\u200cکه می\\u200cدانید من فرستاده خدا به سوی شما هستم.', 'هنگامی\\u200cکه انها از حق منحرف شدند خداوان قلوبشان را منحرف ساخ.', 'و خدا فاسقان را هدایت نمی\\u200cکنند.', 'و به یاد آورید هنگامی را که ایسابل مریم گفت ای ونی اصائیم من فرستادهی خدا به سوی شما هستم در حالی که تستی خوننده\\u200cی کتابی که قبل از من فرستاده\\u200cشده تورات می\\u200cباشند و بشارت\\u200cدهنده و رسولی که بعد از من می\\u200cآید و نام او احمد از هنگامی\\u200cکه او احمد با معجزات و دلائل روشند به سراغ اانان آمد گفتند این سهریز آشکار چه کسی ظالم\\u200cتر از از آن کسی که بر خدا دروغ بسته، در حالی که دعوت به اسلام می\\u200cشود؟ خداون گروح ستمکاران را هدایت نمی\\u200cکند.']\n",
      "[Nevise]   → 'به نام خداوند بخشنلی بخشایشگر، آنچه در آسمان‌ها و آنچه در زمین هست، همه تسبیح خدا میگوگند، و او شکاست نافذیر و حکیم هست.'  →  'به نام خداوند بخشنلی بخشایشگر، آنچه در آسمان‌ها و آنچه در زمین هست، همه تسبیح خدا میگوگند، و او شکست نافذیر و حکیم هست.'\n",
      "[Nevise]   → 'ایچسانی که ایمان آوردید، چرا صخنی می‌گوید که عمل نمی‌کنید؟ نظر خدا بسیار موجب خشم هست که صخنی بگوید که عمل نمی‌کنید.'  →  'انسانی که ایمان آوردید، چرا سخنی می‌گوید که عمل نمی‌کنید؟ نظر خدا بسیار موجب خشم هست که سخنی بگوید که عمل نمی‌کنید.'\n",
      "[Nevise]   → 'خداوان شسانی را دوست می‌دارد که در راه او پیکار می‌کنند.'  →  'خداوند انسانی را دوست می‌دارد که در راه او پیکار می‌کنند.'\n",
      "[Nevise]   → 'گوی بنای آهنینند.'  →  'گوی بانی آهنینند.'\n",
      "[Nevise]   → 'به یاد آورید هنگامی را که موسا به قومش گفت ای قوم من چرا مرا آزار می‌دهید با این‌که می‌دانید من فرستاده خدا به سوی شما هستم.'  →  'به یاد آورید هنگامی را که موسا به قومش گفت ای قوم من چرا مرا آزار می‌دهید با این‌که می‌دانید من فرستاده خدا به سوی شما هستم.'\n",
      "[Nevise]   → 'هنگامی‌که انها از حق منحرف شدند خداوان قلوبشان را منحرف ساخ.'  →  'هنگامی‌که انها از حق منحرف شدند خدایان قلوبشان را منحرف ساخ.'\n",
      "[Nevise]   → 'و خدا فاسقان را هدایت نمی‌کنند.'  →  'و خدا فاسقان را هدایت نمی‌کنند.'\n",
      "[Nevise]   → 'و به یاد آورید هنگامی را که ایسابل مریم گفت ای ونی اصائیم من فرستادهی خدا به سوی شما هستم در حالی که تستی خوننده‌ی کتابی که قبل از من فرستاده‌شده تورات می‌باشند و بشارت‌دهنده و رسولی که بعد از من می‌آید و نام او احمد از هنگامی‌که او احمد با معجزات و دلائل روشند به سراغ اانان آمد گفتند این سهریز آشکار چه کسی ظالم‌تر از از آن کسی که بر خدا دروغ بسته، در حالی که دعوت به اسلام می‌شود؟ خداون گروح ستمکاران را هدایت نمی‌کند.'  →  'و به یاد آورید هنگامی را که ایسابل مریم گفت ای ونی اصائیم من فرستادهی خدا به سوی شما هستم در حالی که تستی خوننده‌ی کتابی که قبل از من فرستاده‌شده تورات می‌باشند و بشارت‌دهنده و رسولی که بعد از من می‌آید و نام او احمد از هنگامی‌که او احمد با معجزات و دلائل روشند به سراغ انان آمد گفتند این سهریز آشکار چه کسی ظالم‌تر از از آن کسی که بر خدا دروغ بسته، در حالی که دعوت به اسلام می‌شود؟ خداوند گروه ستمکاران را هدایت نمی‌کند.'\n",
      "[Nevise] Processing batch: ['آنان می\\u200cخواهند نور خدا را با دهان خود خاموش سازند، ولی خدا نور خود را کامل می\\u200cکند، هرچند کافران خوش نداشته باشند.', 'او کسی ایز که رسول خدا را با هدایت و دین حق قرستاز تا او را بر همه\\u200cی ادیان قالب سازد، خرچند مشرکان کراحت داشته باشند.', 'ای کسانی که ایمان آوردیند، آیا شما را به تجارت راهنمایی کنم که شما را از عذاب درد ناش رحایی می\\u200cبخشد؟ به خدا و رسولش امان بیاورید و با امبال و جانهای تان در راح خدا و جهاد کنید، این برای شما از هر چیز بهتر هست اگر بتانید.', 'اگر چنین کنید، گناهان تان را می\\u200cبخشد و شما را در باغهای از بهشت داخل می\\u200cکند که نهرها از دیر درختانش جارید و در مستنهای پاکیزه در بهشت جاویدان جای می\\u200cرهد و این فیروزی عظیم هست.', 'و نعمت دیگر\\u200cای که آن را دوستارید به شما می\\u200cبخشد و آن یاری خدا وند و فیروزی نزدیک هست و مؤمنان را به شورت به\\u200cبه این فیروزی بزرگ.', 'ای کسانی که ایمان آبردهید یا وران خدا باشید همان گمن که ایسابل مریم به حواریون گفت چه کسانی در راه خدا یا وران من هستند؟ حواریون گفتند ما یا بران خدا ایم، در این انگام گروحی از منی اسرائید ایمان آوردند و گروحی کافر شدند.', 'ما چسان ایراوش ایمان آورده بودند، در برابر دشمنانشان چعید کردیم، و سرنجام برا انان پیروز شدند.']\n",
      "[Nevise]   → 'آنان می‌خواهند نور خدا را با دهان خود خاموش سازند، ولی خدا نور خود را کامل می‌کند، هرچند کافران خوش نداشته باشند.'  →  'آنان می‌خواهند نور خدا را با دهان خود خاموش سازند، ولی خدا نور خود را کامل می‌کند، هرچند کافران خوش نداشته باشند.'\n",
      "[Nevise]   → 'او کسی ایز که رسول خدا را با هدایت و دین حق قرستاز تا او را بر همه‌ی ادیان قالب سازد، خرچند مشرکان کراحت داشته باشند.'  →  'او کسی است که رسول خدا را با هدایت و دین حق قرستاز تا او را بر همه‌ی ادیان قالب سازد، هرچند مشرکان ناراحت داشته باشند.'\n",
      "[Nevise]   → 'ای کسانی که ایمان آوردیند، آیا شما را به تجارت راهنمایی کنم که شما را از عذاب درد ناش رحایی می‌بخشد؟ به خدا و رسولش امان بیاورید و با امبال و جانهای تان در راح خدا و جهاد کنید، این برای شما از هر چیز بهتر هست اگر بتانید.'  →  'ای کسانی که ایمان آوردیند، آیا شما را به تجارت راهنمایی کنم که شما را از عذاب درد نیایش رجایی می‌بخشد؟ به خدا و رسولش ایمان بیاورید و با اعمال و جانهای تان در راه خدا و جهاد کنید، این برای شما از هر چیز بهتر هست اگر بتانید.'\n",
      "[Nevise]   → 'اگر چنین کنید، گناهان تان را می‌بخشد و شما را در باغهای از بهشت داخل می‌کند که نهرها از دیر درختانش جارید و در مستنهای پاکیزه در بهشت جاویدان جای می‌رهد و این فیروزی عظیم هست.'  →  'اگر چنین کنید، گناهان تان را می‌بخشد و شما را در باغهای از بهشت داخل می‌کند که نهرها از دیر درختانش جارید و در مستندهای پاکیزه در بهشت جاویدان جای می‌رهد و این فیروزی عظیم هست.'\n",
      "[Nevise]   → 'و نعمت دیگر‌ای که آن را دوستارید به شما می‌بخشد و آن یاری خدا وند و فیروزی نزدیک هست و مؤمنان را به شورت به‌به این فیروزی بزرگ.'  →  'و نعمت دیگر‌ای که آن را دوستارید به شما می‌بخشد و آن یاری خدا وند و فیروزی نزدیک هست و مؤمنان را به شورت به‌به این فیروزی بزرگ.'\n",
      "[Nevise]   → 'ای کسانی که ایمان آبردهید یا وران خدا باشید همان گمن که ایسابل مریم به حواریون گفت چه کسانی در راه خدا یا وران من هستند؟ حواریون گفتند ما یا بران خدا ایم، در این انگام گروحی از منی اسرائید ایمان آوردند و گروحی کافر شدند.'  →  'ای کسانی که ایمان آبردهید یا یاران خدا باشید همان گمانم که ایسابل مریم به حواریون گفت چه کسانی در راه خدا یا یاران من هستند؟ حواریون گفتند ما یا بران خدا ایم، در این هنگام گروهی از منی اسرائید ایمان آوردند و گروهی کافر شدند.'\n",
      "[Nevise]   → 'ما چسان ایراوش ایمان آورده بودند، در برابر دشمنانشان چعید کردیم، و سرنجام برا انان پیروز شدند.'  →  'ما چنان ایراوش ایمان آورده بودند، در برابر دشمنانشان چعید کردیم، و سرانجام برا انان پیروز شدند.'\n",
      "[Nevise] Final cleaned: 'به نام خداوند بخشنلی بخشایشگر،آنچه در آسمان\\u200cها و آنچه در زمین هست،همه تسبیح خدا میگوگند،و او شکست نافذیر و حکیم هست.انسانی که ایمان آوردید،چرا سخنی می\\u200cگوید که عمل نمی\\u200cکنید؟ نظر خدا بسیار موجب خشم هست که سخنی بگوید که عمل نمی\\u200cکنید.خداوند انسانی را دوست می\\u200cدارد که در راه او پیکار می\\u200cکنند.گوی بانی آهنینند.به یاد آورید هنگامی را که موسا به قومش گفت ای قوم من چرا مرا آزار می\\u200cدهید با این\\u200cکه می\\u200cدانید من فرستاده خدا به سوی شما هستم.هنگامی\\u200cکه انها از حق منحرف شدند خدایان قلوبشان را منحرف ساخ.و خدا فاسقان را هدایت نمی\\u200cکنند.و به یاد آورید هنگامی را که ایسابل مریم گفت ای ونی اصائیم من فرستادهی خدا به سوی شما هستم در حالی که تستی خوننده\\u200cی کتابی که قبل از من فرستاده\\u200cشده تورات می\\u200cباشند و بشارت\\u200cدهنده و رسولی که بعد از من می\\u200cآید و نام او احمد از هنگامی\\u200cکه او احمد با معجزات و دلائل روشند به سراغ انان آمد گفتند این سهریز آشکار چه کسی ظالم\\u200cتر از از آن کسی که بر خدا دروغ بسته،در حالی که دعوت به اسلام می\\u200cشود؟ خداوند گروه ستمکاران را هدایت نمی\\u200cکند.آنان می\\u200cخواهند نور خدا را با دهان خود خاموش سازند،ولی خدا نور خود را کامل می\\u200cکند،هرچند کافران خوش نداشته باشند.او کسی است که رسول خدا را با هدایت و دین حق قرستاز تا او را بر همه\\u200cی ادیان قالب سازد،هرچند مشرکان ناراحت داشته باشند.ای کسانی که ایمان آوردیند،آیا شما را به تجارت راهنمایی کنم که شما را از عذاب درد نیایش رجایی می\\u200cبخشد؟ به خدا و رسولش ایمان بیاورید و با اعمال و جانهای تان در راه خدا و جهاد کنید،این برای شما از هر چیز بهتر هست اگر بتانید.اگر چنین کنید،گناهان تان را می\\u200cبخشد و شما را در باغهای از بهشت داخل می\\u200cکند که نهرها از دیر درختانش جارید و در مستندهای پاکیزه در بهشت جاویدان جای می\\u200cرهد و این فیروزی عظیم هست.و نعمت دیگر\\u200cای که آن را دوستارید به شما می\\u200cبخشد و آن یاری خدا وند و فیروزی نزدیک هست و مؤمنان را به شورت به\\u200cبه این فیروزی بزرگ.ای کسانی که ایمان آبردهید یا یاران خدا باشید همان گمانم که ایسابل مریم به حواریون گفت چه کسانی در راه خدا یا یاران من هستند؟ حواریون گفتند ما یا بران خدا ایم،در این هنگام گروهی از منی اسرائید ایمان آوردند و گروهی کافر شدند.ما چنان ایراوش ایمان آورده بودند،در برابر دشمنانشان چعید کردیم،و سرانجام برا انان پیروز شدند.'\n",
      "\n",
      "--- Comparing no-LLM cleaned (fa) ---\n",
      "\n",
      "\n",
      "🔄 Running LLM cleaner → transcripts_json/farsi_thirdsource_llm_cleaned.json\n",
      "🗂  loading transcripts_json/farsi_thirdsource.json\n",
      "\u001B[92m✔\u001B[0m summary cache hit → .cache_summary/f0bc81e1d43980a5363e09f14c984956.json\n",
      "📄 summary cached / generated:\n",
      "**خلاصه رسمی:**\n",
      "\n",
      "این گفتگو، یک سخنرانی مذهبی است که بر اهمیت ایمان، عمل صالح و جهاد در راه خدا تأکید می‌کند. سخنران با اشاره به داستان‌های مذهبی (موسا، ایسابل مریم، حواریون) به مخاطبان یادآوری می‌کند که ایمان بدون عمل، بی‌ارزش است و باعث خشم خدا می‌شود. او بر اهمیت اطاعت از خدا و رسولش (احمد) و جهاد در راه او تأکید می‌کند و وعده پاداش‌های بهشتی (بهشت، نهرها، باغ‌های بهشت) را برای مؤمنان می‌دهد. همچنین، حواریون به عنوان نمونه‌ای از پیروان راستین خدا معرفی شده و بر اهمیت اطاعت از خدا و رسولش در شرایط مختلف تأکید می‌شود.\n",
      "\n",
      "**فهرست اصطلاحات و مفاهیم تخصصی:**\n",
      "\n",
      "*   **ایمان:** اعتقاد به خدا و اصول او.\n",
      "*   **عمل صالح:** انجام اعمال نیک و مطابق با دستورات الهی.\n",
      "*   **جهاد:** مبارزه در راه خدا، شامل جهاد در راهی که به آن ایمان دارد.\n",
      "*   **خشم خدا:** واکنش منفی خدا به بی‌تابی و عدم عمل به دستورات او.\n",
      "*   **بهشت:** مکانی برای پاداش مؤمنان پس از مرگ.\n",
      "*   **حواریون:** پیروان عیسی مسیح.\n",
      "*   **مشرکان:** افرادی که به جای خدا، دیگران را پرستش می‌کنند.\n",
      "*   **سخنی:** اشاره به پیامبران و فرستادگان خدا.\n",
      "*   **ایچسانی:** اشاره به پیروان دین جدید (احتمالاً اسلام).\n",
      "*   **سخنان:** اشاره به پیامبران و فرستادگان خدا.\n",
      "*   **خاموش سازند:** تلاش برای سرکوب نور خدا و دین او.\n",
      "*   **گروحی:** اشاره به گروه‌هایی از مردم که ایمان آورده‌اند یا نپذیرفته‌اند.\n",
      "*   **مؤمنان:** افرادی که به خدا ایمان دارند و در راه او عمل می‌کنند.\n",
      "\n",
      "امیدوارم این خلاصه و فهرست مفید باشد.\n",
      "————————————————————————————————————————————————————————————\n",
      "🚀 cleaning 8 segments (parallel=2, model=gemma3:4b-it-q4_K_M)\n",
      "🔸 [001] attempt 1 — sending to gemma3:4b-it-q4_K_M …\n",
      "🔸 [002] attempt 1 — sending to gemma3:4b-it-q4_K_M …\n",
      "✅ [002] ok in 1.27s → 'خداوان کسانی را دوست می\\u200cدارد که در راه او پیکار می\\u200cکنند، گویی بنای آهنین\\u200cاند.'\n",
      "🔸 [003] attempt 1 — sending to gemma3:4b-it-q4_K_M …\n",
      "✅ [001] ok in 3.13s → 'به نام خداوند، بخشایشگر، آنچه در آسمان\\u200cها و آنچه در زمین هست، همه تسبیح خدا می\\u200cگویند، و او شکاست، نافذیر و حکیم است. ایچسانی که ایمان آوردید، چرا صخنی می\\u200cگوید که عمل نمی\\u200cکنید؟ نظر خدا بسیار موجب خشم است که صخنی بگوید که عمل نمی\\u200cکنید.'\n",
      "🔸 [004] attempt 1 — sending to gemma3:4b-it-q4_K_M …\n",
      "✅ [003] ok in 2.57s → 'به یاد آورید هنگامی که ایسابل مریم گفت: «ای ونی اصائیم من فرستادهی خدا به سوی شما هستم، در حالی که تورات، کتابی که پیش از من فرستاده شده، بشارت دهنده و رسولی که بعد از من می\\u200cآید و نام او احمد است.»'\n",
      "🔸 [005] attempt 1 — sending to gemma3:4b-it-q4_K_M …\n",
      "✅ [004] ok in 1.87s → 'خداوند گروه\\u200cستمکاران را هدایت نمی\\u200cکند، آنان می\\u200cخواهند نور خدا را با دهان خود خاموش سازند، ولی خدا نور خود را کامل می\\u200cکند، هرچند کافران خوش نداشته باشند.'\n",
      "🔸 [006] attempt 1 — sending to gemma3:4b-it-q4_K_M …\n",
      "✅ [005] ok in 2.08s → 'او کسی است که رسول خدا را با هدایت و دین حق قرائت دارد و به او ایمان می\\u200cآورد. ای کسانی که ایمان آورید، آیا ما را به تجارت راهنمایی می\\u200cکنید که شما را از عذاب دردناک نجات می\\u200cدهد؟'\n",
      "🔸 [007] attempt 1 — sending to gemma3:4b-it-q4_K_M …\n",
      "✅ [007] ok in 0.95s → 'و نعمت دیگر که آن را دوست دارید، یاری خداوند و فیروزی نزدیک مؤمنان است.'\n",
      "🔸 [008] attempt 1 — sending to gemma3:4b-it-q4_K_M …\n",
      "✅ [006] ok in 3.04s → 'به خدا و رسولش امین باشید و با جان و مال خود در راه خدا و جهاد کنید؛ این برای شما از هر چیز بهتر است اگر چنین کنید، گناهان شما را می\\u200cبخشد و شما را در باغ\\u200cهای بهشت داخل می\\u200cکند که نهرها از زیر درختانش جاری است و در مستحبات پاکیزه در بهشت جاودان می\\u200cنشینید.'\n",
      "✅ [008] ok in 1.90s → 'حواریون گفتند ما یا بران خدا ایم، در این انگام گروحی از منی اسرائید ایمان آوردند و گروحی کافر شدند. ما چسان ایراوش ایمان آورده بودند، در برابر دشمنانشان چعید کردیم، و سرنجام برا انان پیروز شدند.'\n",
      "💾 wrote transcripts_json/farsi_thirdsource_llm_cleaned.json\n",
      "✅ LLM-cleaned transcript saved to transcripts_json/farsi_thirdsource_llm_cleaned.json\n",
      "\n",
      "--- Comparing LLM-normalized transcription (fa) ---\n",
      "\n"
     ]
    },
    {
     "ename": "TypeError",
     "evalue": "expected string or bytes-like object, got 'dict'",
     "output_type": "error",
     "traceback": [
      "\u001B[31m---------------------------------------------------------------------------\u001B[39m",
      "\u001B[31mTypeError\u001B[39m                                 Traceback (most recent call last)",
      "\u001B[36mCell\u001B[39m\u001B[36m \u001B[39m\u001B[32mIn[2]\u001B[39m\u001B[32m, line 26\u001B[39m\n\u001B[32m     16\u001B[39m     \u001B[38;5;28;01mreturn\u001B[39;00m evaluate_transcription(\n\u001B[32m     17\u001B[39m         audio_path=audio_file,\n\u001B[32m     18\u001B[39m         ground_truth_path=ground_truth_file,\n\u001B[32m   (...)\u001B[39m\u001B[32m     22\u001B[39m         model_size=\u001B[33m\"\u001B[39m\u001B[33mmedium\u001B[39m\u001B[33m\"\u001B[39m\n\u001B[32m     23\u001B[39m     )\n\u001B[32m     25\u001B[39m \u001B[38;5;66;03m# Now execute:\u001B[39;00m\n\u001B[32m---> \u001B[39m\u001B[32m26\u001B[39m \u001B[43mrun_test\u001B[49m\u001B[43m(\u001B[49m\u001B[43m)\u001B[49m\n\u001B[32m     28\u001B[39m \u001B[38;5;66;03m# model medium farsi_secondsource\u001B[39;00m\n\u001B[32m     29\u001B[39m \u001B[38;5;66;03m##only hazm 33%\u001B[39;00m\n\u001B[32m     30\u001B[39m \u001B[38;5;66;03m##only p_norm 30%\u001B[39;00m\n\u001B[32m   (...)\u001B[39m\u001B[32m     36\u001B[39m \n\u001B[32m     37\u001B[39m \u001B[38;5;66;03m# align_whisper_output(result=result, audio_path=audio_file, ground_truth_path=ground_truth_file, diff=True, print_hype_text=True , print_ref_text=True )\u001B[39;00m\n",
      "\u001B[36mCell\u001B[39m\u001B[36m \u001B[39m\u001B[32mIn[2]\u001B[39m\u001B[32m, line 16\u001B[39m, in \u001B[36mrun_test\u001B[39m\u001B[34m()\u001B[39m\n\u001B[32m     11\u001B[39m ground_truth_file = \u001B[33m\"\u001B[39m\u001B[33m../Data/Training/Farsi/Quran/farsi_thirdsource_transcript-farsi_translation-hebrew.docx\u001B[39m\u001B[33m\"\u001B[39m\n\u001B[32m     13\u001B[39m \u001B[38;5;66;03m# audio_file = \"../Data/Training/Hebrew/hebrew_firstsource.mp4\"\u001B[39;00m\n\u001B[32m     14\u001B[39m \u001B[38;5;66;03m# ground_truth_file = \"../Data/Training/Hebrew/hebrew_firstsource_transcript-hebrew_translation-english.docx\"\u001B[39;00m\n\u001B[32m---> \u001B[39m\u001B[32m16\u001B[39m \u001B[38;5;28;01mreturn\u001B[39;00m \u001B[43mevaluate_transcription\u001B[49m\u001B[43m(\u001B[49m\n\u001B[32m     17\u001B[39m \u001B[43m    \u001B[49m\u001B[43maudio_path\u001B[49m\u001B[43m=\u001B[49m\u001B[43maudio_file\u001B[49m\u001B[43m,\u001B[49m\n\u001B[32m     18\u001B[39m \u001B[43m    \u001B[49m\u001B[43mground_truth_path\u001B[49m\u001B[43m=\u001B[49m\u001B[43mground_truth_file\u001B[49m\u001B[43m,\u001B[49m\n\u001B[32m     19\u001B[39m \u001B[43m    \u001B[49m\u001B[43mdiff\u001B[49m\u001B[43m=\u001B[49m\u001B[38;5;28;43;01mFalse\u001B[39;49;00m\u001B[43m,\u001B[49m\n\u001B[32m     20\u001B[39m \u001B[43m    \u001B[49m\u001B[43mprint_hyp\u001B[49m\u001B[43m=\u001B[49m\u001B[38;5;28;43;01mTrue\u001B[39;49;00m\u001B[43m,\u001B[49m\n\u001B[32m     21\u001B[39m \u001B[43m    \u001B[49m\u001B[43mprint_ref\u001B[49m\u001B[43m=\u001B[49m\u001B[38;5;28;43;01mTrue\u001B[39;49;00m\u001B[43m,\u001B[49m\n\u001B[32m     22\u001B[39m \u001B[43m    \u001B[49m\u001B[43mmodel_size\u001B[49m\u001B[43m=\u001B[49m\u001B[33;43m\"\u001B[39;49m\u001B[33;43mmedium\u001B[39;49m\u001B[33;43m\"\u001B[39;49m\n\u001B[32m     23\u001B[39m \u001B[43m\u001B[49m\u001B[43m)\u001B[49m\n",
      "\u001B[36mFile \u001B[39m\u001B[32m~/PycharmProjects/SmartSummary/tools/asr.py:98\u001B[39m, in \u001B[36mevaluate_transcription\u001B[39m\u001B[34m(audio_path, ground_truth_path, model_size, device, compute_type, batch_size, diff, print_hyp, print_ref)\u001B[39m\n\u001B[32m     95\u001B[39m \u001B[38;5;28;01mwith\u001B[39;00m \u001B[38;5;28mopen\u001B[39m(llm_json, encoding=\u001B[33m\"\u001B[39m\u001B[33mutf-8\u001B[39m\u001B[33m\"\u001B[39m) \u001B[38;5;28;01mas\u001B[39;00m f:\n\u001B[32m     96\u001B[39m     llm_result = json.load(f)\n\u001B[32m---> \u001B[39m\u001B[32m98\u001B[39m \u001B[43mcompare_segments\u001B[49m\u001B[43m(\u001B[49m\n\u001B[32m     99\u001B[39m \u001B[43m    \u001B[49m\u001B[43mllm_result\u001B[49m\u001B[43m[\u001B[49m\u001B[33;43m\"\u001B[39;49m\u001B[33;43msegments\u001B[39;49m\u001B[33;43m\"\u001B[39;49m\u001B[43m]\u001B[49m\u001B[43m,\u001B[49m\n\u001B[32m    100\u001B[39m \u001B[43m    \u001B[49m\u001B[43mref_p\u001B[49m\u001B[43m,\u001B[49m\n\u001B[32m    101\u001B[39m \u001B[43m    \u001B[49m\u001B[43maudio_p\u001B[49m\u001B[43m,\u001B[49m\n\u001B[32m    102\u001B[39m \u001B[43m    \u001B[49m\u001B[43mdiff\u001B[49m\u001B[43m,\u001B[49m\n\u001B[32m    103\u001B[39m \u001B[43m    \u001B[49m\u001B[43mprint_hyp\u001B[49m\u001B[43m,\u001B[49m\n\u001B[32m    104\u001B[39m \u001B[43m    \u001B[49m\u001B[43mprint_ref\u001B[49m\u001B[43m,\u001B[49m\n\u001B[32m    105\u001B[39m \u001B[43m    \u001B[49m\u001B[33;43m\"\u001B[39;49m\u001B[33;43mLLM-normalized transcription\u001B[39;49m\u001B[33;43m\"\u001B[39;49m\u001B[43m,\u001B[49m\n\u001B[32m    106\u001B[39m \u001B[43m    \u001B[49m\u001B[43mlang\u001B[49m\u001B[43m,\u001B[49m\n\u001B[32m    107\u001B[39m \u001B[43m\u001B[49m\u001B[43m)\u001B[49m\n\u001B[32m    109\u001B[39m \u001B[38;5;28;01mreturn\u001B[39;00m result\n",
      "\u001B[36mFile \u001B[39m\u001B[32m~/PycharmProjects/SmartSummary/tools/asr.py:41\u001B[39m, in \u001B[36mcompare_segments\u001B[39m\u001B[34m(segments, ground_truth_path, audio_path, diff, print_hyp, print_ref, msg, lang)\u001B[39m\n\u001B[32m     30\u001B[39m \u001B[38;5;28;01mdef\u001B[39;00m\u001B[38;5;250m \u001B[39m\u001B[34mcompare_segments\u001B[39m(\n\u001B[32m     31\u001B[39m     segments,\n\u001B[32m     32\u001B[39m     ground_truth_path: Path,\n\u001B[32m   (...)\u001B[39m\u001B[32m     38\u001B[39m     lang: \u001B[38;5;28mstr\u001B[39m,\n\u001B[32m     39\u001B[39m ):\n\u001B[32m     40\u001B[39m     \u001B[38;5;28mprint\u001B[39m(\u001B[33mf\u001B[39m\u001B[33m\"\u001B[39m\u001B[38;5;130;01m\\n\u001B[39;00m\u001B[33m--- Comparing \u001B[39m\u001B[38;5;132;01m{\u001B[39;00mmsg\u001B[38;5;132;01m}\u001B[39;00m\u001B[33m (\u001B[39m\u001B[38;5;132;01m{\u001B[39;00mlang\u001B[38;5;132;01m}\u001B[39;00m\u001B[33m) ---\u001B[39m\u001B[38;5;130;01m\\n\u001B[39;00m\u001B[33m\"\u001B[39m)\n\u001B[32m---> \u001B[39m\u001B[32m41\u001B[39m     \u001B[43msegments_comparison\u001B[49m\u001B[43m(\u001B[49m\n\u001B[32m     42\u001B[39m \u001B[43m        \u001B[49m\u001B[43msegments\u001B[49m\u001B[43m,\u001B[49m\n\u001B[32m     43\u001B[39m \u001B[43m        \u001B[49m\u001B[38;5;28;43mstr\u001B[39;49m\u001B[43m(\u001B[49m\u001B[43mground_truth_path\u001B[49m\u001B[43m)\u001B[49m\u001B[43m,\u001B[49m\n\u001B[32m     44\u001B[39m \u001B[43m        \u001B[49m\u001B[38;5;28;43mstr\u001B[39;49m\u001B[43m(\u001B[49m\u001B[43maudio_path\u001B[49m\u001B[43m)\u001B[49m\u001B[43m,\u001B[49m\n\u001B[32m     45\u001B[39m \u001B[43m        \u001B[49m\u001B[43mdiff\u001B[49m\u001B[43m=\u001B[49m\u001B[43mdiff\u001B[49m\u001B[43m,\u001B[49m\n\u001B[32m     46\u001B[39m \u001B[43m        \u001B[49m\u001B[43mprint_hyp\u001B[49m\u001B[43m=\u001B[49m\u001B[43mprint_hyp\u001B[49m\u001B[43m,\u001B[49m\n\u001B[32m     47\u001B[39m \u001B[43m        \u001B[49m\u001B[43mprint_ref\u001B[49m\u001B[43m=\u001B[49m\u001B[43mprint_ref\u001B[49m\u001B[43m,\u001B[49m\n\u001B[32m     48\u001B[39m \u001B[43m        \u001B[49m\u001B[43mmsg\u001B[49m\u001B[43m=\u001B[49m\u001B[43mmsg\u001B[49m\u001B[43m,\u001B[49m\n\u001B[32m     49\u001B[39m \u001B[43m        \u001B[49m\u001B[43mlang\u001B[49m\u001B[43m=\u001B[49m\u001B[43mlang\u001B[49m\u001B[43m,\u001B[49m\n\u001B[32m     50\u001B[39m \u001B[43m    \u001B[49m\u001B[43m)\u001B[49m\n",
      "\u001B[36mFile \u001B[39m\u001B[32m~/PycharmProjects/SmartSummary/tools/comparison.py:118\u001B[39m, in \u001B[36msegments_comparison\u001B[39m\u001B[34m(hyp_text, ground_truth_path, audio_path, diff, print_hyp, print_ref, msg, lang)\u001B[39m\n\u001B[32m    116\u001B[39m \u001B[38;5;66;03m# Raw comparison\u001B[39;00m\n\u001B[32m    117\u001B[39m logging.info(\u001B[33mf\u001B[39m\u001B[33m\"\u001B[39m\u001B[33m--- Comparing raw \u001B[39m\u001B[38;5;132;01m{\u001B[39;00mmsg\u001B[38;5;132;01m}\u001B[39;00m\u001B[33m ---\u001B[39m\u001B[33m\"\u001B[39m)\n\u001B[32m--> \u001B[39m\u001B[32m118\u001B[39m raw_metrics = \u001B[43mcompare_texts\u001B[49m\u001B[43m(\u001B[49m\u001B[43mhyp_text\u001B[49m\u001B[43m,\u001B[49m\u001B[43m \u001B[49m\u001B[43mref_text\u001B[49m\u001B[43m,\u001B[49m\u001B[43m \u001B[49m\u001B[43mdiff\u001B[49m\u001B[43m)\u001B[49m\n\u001B[32m    120\u001B[39m \u001B[38;5;66;03m# # Clean with language-aware normalizer\u001B[39;00m\n\u001B[32m    121\u001B[39m \u001B[38;5;66;03m# hyp_clean = cleaning(hyp_text, lang) if isinstance(hyp_text, str) else hyp_text\u001B[39;00m\n\u001B[32m    122\u001B[39m \u001B[38;5;66;03m# if print_hyp:\u001B[39;00m\n\u001B[32m   (...)\u001B[39m\u001B[32m    125\u001B[39m \u001B[38;5;66;03m# logging.info(f\"--- Comparing cleaned {msg} ---\")\u001B[39;00m\n\u001B[32m    126\u001B[39m \u001B[38;5;66;03m# clean_metrics = compare_texts(hyp_clean, ref_text, diff)\u001B[39;00m\n\u001B[32m    127\u001B[39m clean_metrics = \u001B[33m\"\u001B[39m\u001B[33m\"\u001B[39m\n",
      "\u001B[36mFile \u001B[39m\u001B[32m~/PycharmProjects/SmartSummary/tools/comparison.py:83\u001B[39m, in \u001B[36mcompare_texts\u001B[39m\u001B[34m(hyp, ref, diff)\u001B[39m\n\u001B[32m     74\u001B[39m \u001B[38;5;28;01mdef\u001B[39;00m\u001B[38;5;250m \u001B[39m\u001B[34mcompare_texts\u001B[39m(\n\u001B[32m     75\u001B[39m     hyp: \u001B[38;5;28mstr\u001B[39m,\n\u001B[32m     76\u001B[39m     ref: \u001B[38;5;28mstr\u001B[39m,\n\u001B[32m     77\u001B[39m     diff: \u001B[38;5;28mbool\u001B[39m = \u001B[38;5;28;01mFalse\u001B[39;00m\n\u001B[32m     78\u001B[39m ) -> Dict[\u001B[38;5;28mstr\u001B[39m, Any]:\n\u001B[32m     79\u001B[39m \u001B[38;5;250m    \u001B[39m\u001B[33;03m\"\"\"\u001B[39;00m\n\u001B[32m     80\u001B[39m \u001B[33;03m    Compute and optionally print WER metrics and word-level diff.\u001B[39;00m\n\u001B[32m     81\u001B[39m \u001B[33;03m    Returns the metrics dict.\u001B[39;00m\n\u001B[32m     82\u001B[39m \u001B[33;03m    \"\"\"\u001B[39;00m\n\u001B[32m---> \u001B[39m\u001B[32m83\u001B[39m     metrics = \u001B[43mcompute_wer_metrics\u001B[49m\u001B[43m(\u001B[49m\u001B[43mhyp\u001B[49m\u001B[43m,\u001B[49m\u001B[43m \u001B[49m\u001B[43mref\u001B[49m\u001B[43m)\u001B[49m\n\u001B[32m     84\u001B[39m     logging.info(\u001B[33mf\u001B[39m\u001B[33m\"\u001B[39m\u001B[33m📊 WER: \u001B[39m\u001B[38;5;132;01m{\u001B[39;00mmetrics[\u001B[33m'\u001B[39m\u001B[33mwer\u001B[39m\u001B[33m'\u001B[39m]\u001B[38;5;132;01m:\u001B[39;00m\u001B[33m.2%\u001B[39m\u001B[38;5;132;01m}\u001B[39;00m\u001B[33m | S=\u001B[39m\u001B[38;5;132;01m{\u001B[39;00mmetrics[\u001B[33m'\u001B[39m\u001B[33msubstitutions\u001B[39m\u001B[33m'\u001B[39m]\u001B[38;5;132;01m}\u001B[39;00m\u001B[33m D=\u001B[39m\u001B[38;5;132;01m{\u001B[39;00mmetrics[\u001B[33m'\u001B[39m\u001B[33mdeletions\u001B[39m\u001B[33m'\u001B[39m]\u001B[38;5;132;01m}\u001B[39;00m\u001B[33m I=\u001B[39m\u001B[38;5;132;01m{\u001B[39;00mmetrics[\u001B[33m'\u001B[39m\u001B[33minsertions\u001B[39m\u001B[33m'\u001B[39m]\u001B[38;5;132;01m}\u001B[39;00m\u001B[33m\"\u001B[39m)\n\u001B[32m     85\u001B[39m     \u001B[38;5;28;01mif\u001B[39;00m diff:\n",
      "\u001B[36mFile \u001B[39m\u001B[32m~/PycharmProjects/SmartSummary/tools/comparison.py:49\u001B[39m, in \u001B[36mcompute_wer_metrics\u001B[39m\u001B[34m(hyp, ref)\u001B[39m\n\u001B[32m     44\u001B[39m \u001B[38;5;28;01mdef\u001B[39;00m\u001B[38;5;250m \u001B[39m\u001B[34mcompute_wer_metrics\u001B[39m(hyp: \u001B[38;5;28mstr\u001B[39m, ref: \u001B[38;5;28mstr\u001B[39m) -> Dict[\u001B[38;5;28mstr\u001B[39m, Any]:\n\u001B[32m     45\u001B[39m \u001B[38;5;250m    \u001B[39m\u001B[33;03m\"\"\"\u001B[39;00m\n\u001B[32m     46\u001B[39m \u001B[33;03m    Compute WER and related counts between reference and hypothesis.\u001B[39;00m\n\u001B[32m     47\u001B[39m \u001B[33;03m    Returns a dict with 'wer', 'substitutions', 'deletions', 'insertions'.\u001B[39;00m\n\u001B[32m     48\u001B[39m \u001B[33;03m    \"\"\"\u001B[39;00m\n\u001B[32m---> \u001B[39m\u001B[32m49\u001B[39m     wer_value = \u001B[43mjiwer\u001B[49m\u001B[43m.\u001B[49m\u001B[43mwer\u001B[49m\u001B[43m(\u001B[49m\u001B[43mref\u001B[49m\u001B[43m,\u001B[49m\u001B[43m \u001B[49m\u001B[43mhyp\u001B[49m\u001B[43m)\u001B[49m\n\u001B[32m     50\u001B[39m     measures = jiwer.process_characters(ref, hyp)\n\u001B[32m     51\u001B[39m     \u001B[38;5;28;01mreturn\u001B[39;00m {\n\u001B[32m     52\u001B[39m         \u001B[33m\"\u001B[39m\u001B[33mwer\u001B[39m\u001B[33m\"\u001B[39m: wer_value,\n\u001B[32m     53\u001B[39m         \u001B[33m\"\u001B[39m\u001B[33msubstitutions\u001B[39m\u001B[33m\"\u001B[39m: measures.substitutions,\n\u001B[32m     54\u001B[39m         \u001B[33m\"\u001B[39m\u001B[33mdeletions\u001B[39m\u001B[33m\"\u001B[39m: measures.deletions,\n\u001B[32m     55\u001B[39m         \u001B[33m\"\u001B[39m\u001B[33minsertions\u001B[39m\u001B[33m\"\u001B[39m: measures.insertions,\n\u001B[32m     56\u001B[39m     }\n",
      "\u001B[36mFile \u001B[39m\u001B[32m~/PycharmProjects/SmartSummary/.venv/lib/python3.11/site-packages/jiwer/measures.py:82\u001B[39m, in \u001B[36mwer\u001B[39m\u001B[34m(reference, hypothesis, reference_transform, hypothesis_transform)\u001B[39m\n\u001B[32m     62\u001B[39m \u001B[38;5;28;01mdef\u001B[39;00m\u001B[38;5;250m \u001B[39m\u001B[34mwer\u001B[39m(\n\u001B[32m     63\u001B[39m     reference: Union[\u001B[38;5;28mstr\u001B[39m, List[\u001B[38;5;28mstr\u001B[39m]] = \u001B[38;5;28;01mNone\u001B[39;00m,\n\u001B[32m     64\u001B[39m     hypothesis: Union[\u001B[38;5;28mstr\u001B[39m, List[\u001B[38;5;28mstr\u001B[39m]] = \u001B[38;5;28;01mNone\u001B[39;00m,\n\u001B[32m     65\u001B[39m     reference_transform: Union[tr.Compose, tr.AbstractTransform] = wer_default,\n\u001B[32m     66\u001B[39m     hypothesis_transform: Union[tr.Compose, tr.AbstractTransform] = wer_default,\n\u001B[32m     67\u001B[39m ) -> \u001B[38;5;28mfloat\u001B[39m:\n\u001B[32m     68\u001B[39m \u001B[38;5;250m    \u001B[39m\u001B[33;03m\"\"\"\u001B[39;00m\n\u001B[32m     69\u001B[39m \u001B[33;03m    Calculate the word error rate (WER) between one or more reference and\u001B[39;00m\n\u001B[32m     70\u001B[39m \u001B[33;03m    hypothesis sentences.\u001B[39;00m\n\u001B[32m   (...)\u001B[39m\u001B[32m     80\u001B[39m \u001B[33;03m                 hypothesis sentence(s).\u001B[39;00m\n\u001B[32m     81\u001B[39m \u001B[33;03m    \"\"\"\u001B[39;00m\n\u001B[32m---> \u001B[39m\u001B[32m82\u001B[39m     output = \u001B[43mprocess_words\u001B[49m\u001B[43m(\u001B[49m\n\u001B[32m     83\u001B[39m \u001B[43m        \u001B[49m\u001B[43mreference\u001B[49m\u001B[43m,\u001B[49m\u001B[43m \u001B[49m\u001B[43mhypothesis\u001B[49m\u001B[43m,\u001B[49m\u001B[43m \u001B[49m\u001B[43mreference_transform\u001B[49m\u001B[43m,\u001B[49m\u001B[43m \u001B[49m\u001B[43mhypothesis_transform\u001B[49m\n\u001B[32m     84\u001B[39m \u001B[43m    \u001B[49m\u001B[43m)\u001B[49m\n\u001B[32m     86\u001B[39m     \u001B[38;5;28;01mreturn\u001B[39;00m output.wer\n",
      "\u001B[36mFile \u001B[39m\u001B[32m~/PycharmProjects/SmartSummary/.venv/lib/python3.11/site-packages/jiwer/process.py:164\u001B[39m, in \u001B[36mprocess_words\u001B[39m\u001B[34m(reference, hypothesis, reference_transform, hypothesis_transform)\u001B[39m\n\u001B[32m    160\u001B[39m \u001B[38;5;66;03m# pre-process reference and hypothesis by applying transforms\u001B[39;00m\n\u001B[32m    161\u001B[39m ref_transformed = _apply_transform(\n\u001B[32m    162\u001B[39m     reference, reference_transform, is_reference=\u001B[38;5;28;01mTrue\u001B[39;00m\n\u001B[32m    163\u001B[39m )\n\u001B[32m--> \u001B[39m\u001B[32m164\u001B[39m hyp_transformed = \u001B[43m_apply_transform\u001B[49m\u001B[43m(\u001B[49m\n\u001B[32m    165\u001B[39m \u001B[43m    \u001B[49m\u001B[43mhypothesis\u001B[49m\u001B[43m,\u001B[49m\u001B[43m \u001B[49m\u001B[43mhypothesis_transform\u001B[49m\u001B[43m,\u001B[49m\u001B[43m \u001B[49m\u001B[43mis_reference\u001B[49m\u001B[43m=\u001B[49m\u001B[38;5;28;43;01mFalse\u001B[39;49;00m\n\u001B[32m    166\u001B[39m \u001B[43m\u001B[49m\u001B[43m)\u001B[49m\n\u001B[32m    168\u001B[39m \u001B[38;5;28;01mif\u001B[39;00m \u001B[38;5;28mlen\u001B[39m(ref_transformed) != \u001B[38;5;28mlen\u001B[39m(hyp_transformed):\n\u001B[32m    169\u001B[39m     \u001B[38;5;28;01mraise\u001B[39;00m \u001B[38;5;167;01mValueError\u001B[39;00m(\n\u001B[32m    170\u001B[39m         \u001B[33m\"\u001B[39m\u001B[33mAfter applying the transforms on the reference and hypothesis sentences, \u001B[39m\u001B[33m\"\u001B[39m\n\u001B[32m    171\u001B[39m         \u001B[33mf\u001B[39m\u001B[33m\"\u001B[39m\u001B[33mtheir lengths must match. \u001B[39m\u001B[33m\"\u001B[39m\n\u001B[32m    172\u001B[39m         \u001B[33mf\u001B[39m\u001B[33m\"\u001B[39m\u001B[33mInstead got \u001B[39m\u001B[38;5;132;01m{\u001B[39;00m\u001B[38;5;28mlen\u001B[39m(ref_transformed)\u001B[38;5;132;01m}\u001B[39;00m\u001B[33m reference and \u001B[39m\u001B[33m\"\u001B[39m\n\u001B[32m    173\u001B[39m         \u001B[33mf\u001B[39m\u001B[33m\"\u001B[39m\u001B[38;5;132;01m{\u001B[39;00m\u001B[38;5;28mlen\u001B[39m(hyp_transformed)\u001B[38;5;132;01m}\u001B[39;00m\u001B[33m hypothesis sentences.\u001B[39m\u001B[33m\"\u001B[39m\n\u001B[32m    174\u001B[39m     )\n",
      "\u001B[36mFile \u001B[39m\u001B[32m~/PycharmProjects/SmartSummary/.venv/lib/python3.11/site-packages/jiwer/process.py:369\u001B[39m, in \u001B[36m_apply_transform\u001B[39m\u001B[34m(sentence, transform, is_reference)\u001B[39m\n\u001B[32m    362\u001B[39m \u001B[38;5;28;01mdef\u001B[39;00m\u001B[38;5;250m \u001B[39m\u001B[34m_apply_transform\u001B[39m(\n\u001B[32m    363\u001B[39m     sentence: Union[\u001B[38;5;28mstr\u001B[39m, List[\u001B[38;5;28mstr\u001B[39m]],\n\u001B[32m    364\u001B[39m     transform: Union[tr.Compose, tr.AbstractTransform],\n\u001B[32m   (...)\u001B[39m\u001B[32m    367\u001B[39m     \u001B[38;5;66;03m# Apply transforms. The transforms should collapse input to a\u001B[39;00m\n\u001B[32m    368\u001B[39m     \u001B[38;5;66;03m# list with lists of words\u001B[39;00m\n\u001B[32m--> \u001B[39m\u001B[32m369\u001B[39m     transformed_sentence = \u001B[43mtransform\u001B[49m\u001B[43m(\u001B[49m\u001B[43msentence\u001B[49m\u001B[43m)\u001B[49m\n\u001B[32m    371\u001B[39m     \u001B[38;5;66;03m# Validate the output is a list containing lists of strings\u001B[39;00m\n\u001B[32m    372\u001B[39m     \u001B[38;5;28;01mif\u001B[39;00m \u001B[38;5;129;01mnot\u001B[39;00m _is_list_of_list_of_strings(transformed_sentence):\n",
      "\u001B[36mFile \u001B[39m\u001B[32m~/PycharmProjects/SmartSummary/.venv/lib/python3.11/site-packages/jiwer/transforms.py:130\u001B[39m, in \u001B[36mCompose.__call__\u001B[39m\u001B[34m(self, text)\u001B[39m\n\u001B[32m    128\u001B[39m \u001B[38;5;28;01mdef\u001B[39;00m\u001B[38;5;250m \u001B[39m\u001B[34m__call__\u001B[39m(\u001B[38;5;28mself\u001B[39m, text):\n\u001B[32m    129\u001B[39m     \u001B[38;5;28;01mfor\u001B[39;00m tr \u001B[38;5;129;01min\u001B[39;00m \u001B[38;5;28mself\u001B[39m.transforms:\n\u001B[32m--> \u001B[39m\u001B[32m130\u001B[39m         text = \u001B[43mtr\u001B[49m\u001B[43m(\u001B[49m\u001B[43mtext\u001B[49m\u001B[43m)\u001B[49m\n\u001B[32m    132\u001B[39m     \u001B[38;5;28;01mreturn\u001B[39;00m text\n",
      "\u001B[36mFile \u001B[39m\u001B[32m~/PycharmProjects/SmartSummary/.venv/lib/python3.11/site-packages/jiwer/transforms.py:85\u001B[39m, in \u001B[36mAbstractTransform.__call__\u001B[39m\u001B[34m(self, sentences)\u001B[39m\n\u001B[32m     83\u001B[39m     \u001B[38;5;28;01mreturn\u001B[39;00m \u001B[38;5;28mself\u001B[39m.process_string(sentences)\n\u001B[32m     84\u001B[39m \u001B[38;5;28;01melif\u001B[39;00m \u001B[38;5;28misinstance\u001B[39m(sentences, \u001B[38;5;28mlist\u001B[39m):\n\u001B[32m---> \u001B[39m\u001B[32m85\u001B[39m     \u001B[38;5;28;01mreturn\u001B[39;00m \u001B[38;5;28;43mself\u001B[39;49m\u001B[43m.\u001B[49m\u001B[43mprocess_list\u001B[49m\u001B[43m(\u001B[49m\u001B[43msentences\u001B[49m\u001B[43m)\u001B[49m\n\u001B[32m     86\u001B[39m \u001B[38;5;28;01melse\u001B[39;00m:\n\u001B[32m     87\u001B[39m     \u001B[38;5;28;01mraise\u001B[39;00m \u001B[38;5;167;01mValueError\u001B[39;00m(\n\u001B[32m     88\u001B[39m         \u001B[33m\"\u001B[39m\u001B[33minput \u001B[39m\u001B[38;5;132;01m{}\u001B[39;00m\u001B[33m was expected to be a string or list of strings\u001B[39m\u001B[33m\"\u001B[39m.format(\n\u001B[32m     89\u001B[39m             sentences\n\u001B[32m     90\u001B[39m         )\n\u001B[32m     91\u001B[39m     )\n",
      "\u001B[36mFile \u001B[39m\u001B[32m~/PycharmProjects/SmartSummary/.venv/lib/python3.11/site-packages/jiwer/transforms.py:461\u001B[39m, in \u001B[36mRemoveMultipleSpaces.process_list\u001B[39m\u001B[34m(self, inp)\u001B[39m\n\u001B[32m    460\u001B[39m \u001B[38;5;28;01mdef\u001B[39;00m\u001B[38;5;250m \u001B[39m\u001B[34mprocess_list\u001B[39m(\u001B[38;5;28mself\u001B[39m, inp: List[\u001B[38;5;28mstr\u001B[39m]):\n\u001B[32m--> \u001B[39m\u001B[32m461\u001B[39m     \u001B[38;5;28;01mreturn\u001B[39;00m \u001B[43m[\u001B[49m\u001B[38;5;28;43mself\u001B[39;49m\u001B[43m.\u001B[49m\u001B[43mprocess_string\u001B[49m\u001B[43m(\u001B[49m\u001B[43ms\u001B[49m\u001B[43m)\u001B[49m\u001B[43m \u001B[49m\u001B[38;5;28;43;01mfor\u001B[39;49;00m\u001B[43m \u001B[49m\u001B[43ms\u001B[49m\u001B[43m \u001B[49m\u001B[38;5;129;43;01min\u001B[39;49;00m\u001B[43m \u001B[49m\u001B[43minp\u001B[49m\u001B[43m]\u001B[49m\n",
      "\u001B[36mFile \u001B[39m\u001B[32m~/PycharmProjects/SmartSummary/.venv/lib/python3.11/site-packages/jiwer/transforms.py:461\u001B[39m, in \u001B[36m<listcomp>\u001B[39m\u001B[34m(.0)\u001B[39m\n\u001B[32m    460\u001B[39m \u001B[38;5;28;01mdef\u001B[39;00m\u001B[38;5;250m \u001B[39m\u001B[34mprocess_list\u001B[39m(\u001B[38;5;28mself\u001B[39m, inp: List[\u001B[38;5;28mstr\u001B[39m]):\n\u001B[32m--> \u001B[39m\u001B[32m461\u001B[39m     \u001B[38;5;28;01mreturn\u001B[39;00m [\u001B[38;5;28;43mself\u001B[39;49m\u001B[43m.\u001B[49m\u001B[43mprocess_string\u001B[49m\u001B[43m(\u001B[49m\u001B[43ms\u001B[49m\u001B[43m)\u001B[49m \u001B[38;5;28;01mfor\u001B[39;00m s \u001B[38;5;129;01min\u001B[39;00m inp]\n",
      "\u001B[36mFile \u001B[39m\u001B[32m~/PycharmProjects/SmartSummary/.venv/lib/python3.11/site-packages/jiwer/transforms.py:458\u001B[39m, in \u001B[36mRemoveMultipleSpaces.process_string\u001B[39m\u001B[34m(self, s)\u001B[39m\n\u001B[32m    457\u001B[39m \u001B[38;5;28;01mdef\u001B[39;00m\u001B[38;5;250m \u001B[39m\u001B[34mprocess_string\u001B[39m(\u001B[38;5;28mself\u001B[39m, s: \u001B[38;5;28mstr\u001B[39m):\n\u001B[32m--> \u001B[39m\u001B[32m458\u001B[39m     \u001B[38;5;28;01mreturn\u001B[39;00m \u001B[43mre\u001B[49m\u001B[43m.\u001B[49m\u001B[43msub\u001B[49m\u001B[43m(\u001B[49m\u001B[33;43mr\u001B[39;49m\u001B[33;43m\"\u001B[39;49m\u001B[33;43m\\\u001B[39;49m\u001B[33;43ms\u001B[39;49m\u001B[33;43m\\\u001B[39;49m\u001B[33;43ms+\u001B[39;49m\u001B[33;43m\"\u001B[39;49m\u001B[43m,\u001B[49m\u001B[43m \u001B[49m\u001B[33;43m\"\u001B[39;49m\u001B[33;43m \u001B[39;49m\u001B[33;43m\"\u001B[39;49m\u001B[43m,\u001B[49m\u001B[43m \u001B[49m\u001B[43ms\u001B[49m\u001B[43m)\u001B[49m\n",
      "\u001B[36mFile \u001B[39m\u001B[32m/Library/Frameworks/Python.framework/Versions/3.11/lib/python3.11/re/__init__.py:185\u001B[39m, in \u001B[36msub\u001B[39m\u001B[34m(pattern, repl, string, count, flags)\u001B[39m\n\u001B[32m    178\u001B[39m \u001B[38;5;28;01mdef\u001B[39;00m\u001B[38;5;250m \u001B[39m\u001B[34msub\u001B[39m(pattern, repl, string, count=\u001B[32m0\u001B[39m, flags=\u001B[32m0\u001B[39m):\n\u001B[32m    179\u001B[39m \u001B[38;5;250m    \u001B[39m\u001B[33;03m\"\"\"Return the string obtained by replacing the leftmost\u001B[39;00m\n\u001B[32m    180\u001B[39m \u001B[33;03m    non-overlapping occurrences of the pattern in string by the\u001B[39;00m\n\u001B[32m    181\u001B[39m \u001B[33;03m    replacement repl.  repl can be either a string or a callable;\u001B[39;00m\n\u001B[32m    182\u001B[39m \u001B[33;03m    if a string, backslash escapes in it are processed.  If it is\u001B[39;00m\n\u001B[32m    183\u001B[39m \u001B[33;03m    a callable, it's passed the Match object and must return\u001B[39;00m\n\u001B[32m    184\u001B[39m \u001B[33;03m    a replacement string to be used.\"\"\"\u001B[39;00m\n\u001B[32m--> \u001B[39m\u001B[32m185\u001B[39m     \u001B[38;5;28;01mreturn\u001B[39;00m \u001B[43m_compile\u001B[49m\u001B[43m(\u001B[49m\u001B[43mpattern\u001B[49m\u001B[43m,\u001B[49m\u001B[43m \u001B[49m\u001B[43mflags\u001B[49m\u001B[43m)\u001B[49m\u001B[43m.\u001B[49m\u001B[43msub\u001B[49m\u001B[43m(\u001B[49m\u001B[43mrepl\u001B[49m\u001B[43m,\u001B[49m\u001B[43m \u001B[49m\u001B[43mstring\u001B[49m\u001B[43m,\u001B[49m\u001B[43m \u001B[49m\u001B[43mcount\u001B[49m\u001B[43m)\u001B[49m\n",
      "\u001B[31mTypeError\u001B[39m: expected string or bytes-like object, got 'dict'"
     ]
    },
    {
     "name": "stderr",
     "output_type": "stream",
     "text": [
      "/Users/pouya/PycharmProjects/SmartSummary/.venv/lib/python3.11/site-packages/IPython/extensions/autoreload.py:247: UserWarning: Module 'speechbrain.pretrained' was deprecated, redirecting to 'speechbrain.inference'. Please update your script. This is a change from SpeechBrain 1.0. See: https://github.com/speechbrain/speechbrain/releases/tag/v1.0.0\n",
      "  if not hasattr(module, \"__file__\") or module.__file__ is None:\n"
     ]
    }
   ],
   "execution_count": 2
  },
  {
   "metadata": {
    "ExecuteTime": {
     "end_time": "2025-07-24T22:59:21.235798Z",
     "start_time": "2025-07-24T05:04:00.209313Z"
    }
   },
   "cell_type": "code",
   "source": "",
   "id": "b6b0e65d8d63af34",
   "outputs": [],
   "execution_count": null
  }
 ],
 "metadata": {
  "kernelspec": {
   "display_name": "Python 3",
   "language": "python",
   "name": "python3"
  },
  "language_info": {
   "codemirror_mode": {
    "name": "ipython",
    "version": 2
   },
   "file_extension": ".py",
   "mimetype": "text/x-python",
   "name": "python",
   "nbconvert_exporter": "python",
   "pygments_lexer": "ipython2",
   "version": "2.7.6"
  }
 },
 "nbformat": 4,
 "nbformat_minor": 5
}
